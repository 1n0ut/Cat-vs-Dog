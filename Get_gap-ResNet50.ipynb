{
 "cells": [
  {
   "cell_type": "code",
   "execution_count": 5,
   "metadata": {},
   "outputs": [],
   "source": [
    "from keras.models import *\n",
    "from keras.layers import *\n",
    "from keras.applications.resnet50 import ResNet50\n",
    "from keras.preprocessing.image import *\n",
    "from keras.applications.resnet50 import preprocess_input\n",
    "import h5py"
   ]
  },
  {
   "cell_type": "code",
   "execution_count": 8,
   "metadata": {},
   "outputs": [
    {
     "name": "stdout",
     "output_type": "stream",
     "text": [
      "Found 24964 images belonging to 2 classes.\n",
      "Found 12500 images belonging to 1 classes.\n"
     ]
    }
   ],
   "source": [
    "input_tensor = Input((224, 224, 3))\n",
    "x = input_tensor\n",
    "x = Lambda(preprocess_input)(x)\n",
    "base_model = ResNet50(input_tensor=x, weights='imagenet', include_top=False)\n",
    "model = Model(base_model.input, GlobalAveragePooling2D()(base_model.output))\n",
    "\n",
    "idg = ImageDataGenerator()\n",
    "train_generator = idg.flow_from_directory(\"dtrain\", (224, 224), shuffle=False, batch_size=16)\n",
    "test_generator = idg.flow_from_directory(\"dtest\", (224, 224), shuffle=False, batch_size=16, class_mode=None)\n",
    "    \n",
    "train = model.predict_generator(train_generator)\n",
    "test = model.predict_generator(test_generator)\n",
    "    \n",
    "with h5py.File(\"gap_ResNet50.h5\") as h:\n",
    "        h.create_dataset(\"train\", data=train)\n",
    "        h.create_dataset(\"test\", data=test)\n",
    "        h.create_dataset(\"label\", data=train_generator.classes)"
   ]
  },
  {
   "cell_type": "code",
   "execution_count": null,
   "metadata": {},
   "outputs": [],
   "source": []
  }
 ],
 "metadata": {
  "kernelspec": {
   "display_name": "Python 3",
   "language": "python",
   "name": "python3"
  },
  "language_info": {
   "codemirror_mode": {
    "name": "ipython",
    "version": 3
   },
   "file_extension": ".py",
   "mimetype": "text/x-python",
   "name": "python",
   "nbconvert_exporter": "python",
   "pygments_lexer": "ipython3",
   "version": "3.5.2"
  }
 },
 "nbformat": 4,
 "nbformat_minor": 2
}
