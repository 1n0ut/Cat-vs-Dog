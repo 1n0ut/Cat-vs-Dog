{
 "cells": [
  {
   "cell_type": "code",
   "execution_count": 2,
   "metadata": {},
   "outputs": [],
   "source": [
    "from keras.models import *\n",
    "from keras.layers import *\n",
    "from keras.applications import *\n",
    "from keras.preprocessing.image import *\n",
    "import os\n",
    "import shutil\n",
    "import h5py\n",
    "import seaborn as sns"
   ]
  },
  {
   "cell_type": "code",
   "execution_count": 3,
   "metadata": {},
   "outputs": [],
   "source": [
    "ex=['cat.11184.jpg', 'cat.2939.jpg', 'cat.3216.jpg', 'cat.3672.jpg', 'cat.4688.jpg', 'cat.5418.jpg',\n",
    "     'cat.7377.jpg', 'cat.8470.jpg', 'dog.10747.jpg', 'dog.11299.jpg', 'dog.1194.jpg', 'dog.6725.jpg', \n",
    "     'dog.8898.jpg', 'dog.9188.jpg', 'cat.10029.jpg', 'cat.10712.jpg', 'cat.4338.jpg', 'cat.5351.jpg', \n",
    "     'cat.7564.jpg', 'cat.7968.jpg', 'cat.8456.jpg', 'cat.9171.jpg', 'dog.10161.jpg', 'dog.10190.jpg', \n",
    "     'dog.10237.jpg', 'dog.10801.jpg', 'dog.12376.jpg', 'dog.1259.jpg', 'dog.1773.jpg', 'dog.1895.jpg',\n",
    "     'dog.2614.jpg', 'dog.4367.jpg', 'dog.5604.jpg', 'dog.6475.jpg', 'dog.8736.jpg', 'dog.9517.jpg']\n",
    "# ex是需要移除的图片列表"
   ]
  },
  {
   "cell_type": "code",
   "execution_count": 25,
   "metadata": {},
   "outputs": [
    {
     "data": {
      "image/png": "[encoded data removed]",
      "text/plain": [
       "<matplotlib.figure.Figure at 0x22002978>"
      ]
     },
     "metadata": {},
     "output_type": "display_data"
    }
   ],
   "source": [
    "train_filenames = os.listdir('train')\n",
    "cat =[a for a in train_filenames if 'cat' in a]\n",
    "dog =[a for a in train_filenames if 'dog' in a]\n",
    "x = ['train_cat'+str(len(cat)), 'train_dog'+str(len(dog)), 'test'+str(len(os.listdir('test')))]\n",
    "y = [len(cat), len(dog), len(os.listdir('test'))]\n",
    "ax = sns.barplot(x=x, y=y)"
   ]
  },
  {
   "cell_type": "code",
   "execution_count": 24,
   "metadata": {},
   "outputs": [
    {
     "data": {
      "image/png": "[encoded data removed]",
      "text/plain": [
       "<matplotlib.figure.Figure at 0x223b7da0>"
      ]
     },
     "metadata": {},
     "output_type": "display_data"
    }
   ],
   "source": [
    "n_cat =[a for a in train_filenames if a not in ex and 'cat' in a]\n",
    "n_dog =[a for a in train_filenames if a not in ex and 'dog' in a]\n",
    "x = ['train_cat'+str(len(n_cat)), 'train_dog'+str(len(n_dog)), 'test'+str(len(os.listdir('test')))]\n",
    "y = [len(n_cat), len(n_dog), len(os.listdir('test'))]\n",
    "ax = sns.barplot(x=x, y=y)#去除异常图片以后猫狗图片在数据中的数量"
   ]
  },
  {
   "cell_type": "code",
   "execution_count": null,
   "metadata": {},
   "outputs": [],
   "source": [
    "def rmrf_mkdir(dirname):\n",
    "    if os.path.exists(dirname):\n",
    "        shutil.rmtree(dirname)\n",
    "    os.mkdir(dirname)\n",
    "\n",
    "rmrf_mkdir('dtrain')\n",
    "os.mkdir('dtrain/cat')\n",
    "os.mkdir('dtrain/dog')\n",
    "rmrf_mkdir('dtest')\n",
    "os.symlink('../test/', 'dtest/test')\n",
    "\n",
    "for filename in train_filenames:\n",
    "    if filename not in ex:# 只有不属于ex中的图片才可生成软连，从而达到排除异常图片的目的\n",
    "        if 'cat' in filename:\n",
    "            os.symlink('../../train/'+filename, 'dtrain/cat/'+filename)\n",
    "        else:\n",
    "            os.symlink('../../train/'+filename, 'dtrain/dog/'+filename)\n",
    "    "
   ]
  },
  {
   "cell_type": "code",
   "execution_count": 2,
   "metadata": {},
   "outputs": [],
   "source": [
    "def get_gap(MODEL,lambda_func=None):\n",
    "\n",
    "    input_tensor = Input((299, 299, 3))\n",
    "    x = input_tensor\n",
    "    x = Lambda(lambda_func)(x)\n",
    "    base_model = MODEL(input_tensor=x, weights='imagenet', include_top=False)\n",
    "    model = Model(base_model.input, GlobalAveragePooling2D()(base_model.output))\n",
    "\n",
    "    idg = ImageDataGenerator()\n",
    "    train_generator = idg.flow_from_directory(\"dtrain\", (299, 299), shuffle=False, batch_size=16)\n",
    "    test_generator = idg.flow_from_directory(\"dtest\", (299, 299), shuffle=False, batch_size=16, class_mode=None)\n",
    "    \n",
    "    train = model.predict_generator(train_generator)\n",
    "    test = model.predict_generator(test_generator)\n",
    "    \n",
    "    with h5py.File(\"gap_%s.h5\"%MODEL.__name__) as h:\n",
    "        h.create_dataset(\"train\", data=train)\n",
    "        h.create_dataset(\"test\", data=test)\n",
    "        h.create_dataset(\"label\", data=train_generator.classes)"
   ]
  },
  {
   "cell_type": "code",
   "execution_count": 5,
   "metadata": {},
   "outputs": [
    {
     "name": "stdout",
     "output_type": "stream",
     "text": [
      "Found 25000 images belonging to 2 classes.\n",
      "Found 12500 images belonging to 1 classes.\n"
     ]
    }
   ],
   "source": [
    "get_gap(InceptionV3, inception_v3.preprocess_input)"
   ]
  },
  {
   "cell_type": "code",
   "execution_count": 4,
   "metadata": {},
   "outputs": [
    {
     "name": "stdout",
     "output_type": "stream",
     "text": [
      "Found 25000 images belonging to 2 classes.\n",
      "Found 12500 images belonging to 1 classes.\n"
     ]
    }
   ],
   "source": [
    "get_gap(Xception, xception.preprocess_input)"
   ]
  },
  {
   "cell_type": "code",
   "execution_count": 3,
   "metadata": {
    "scrolled": false
   },
   "outputs": [
    {
     "name": "stdout",
     "output_type": "stream",
     "text": [
      "Found 25000 images belonging to 2 classes.\n",
      "Found 12500 images belonging to 1 classes.\n"
     ]
    }
   ],
   "source": [
    "get_gap(InceptionResNetV2,inception_resnet_v2.preprocess_input)"
   ]
  },
  {
   "cell_type": "code",
   "execution_count": null,
   "metadata": {},
   "outputs": [],
   "source": []
  }
 ],
 "metadata": {
  "kernelspec": {
   "display_name": "Python 3",
   "language": "python",
   "name": "python3"
  },
  "language_info": {
   "codemirror_mode": {
    "name": "ipython",
    "version": 3
   },
   "file_extension": ".py",
   "mimetype": "text/x-python",
   "name": "python",
   "nbconvert_exporter": "python",
   "pygments_lexer": "ipython3",
   "version": "3.6.4"
  }
 },
 "nbformat": 4,
 "nbformat_minor": 2
}
